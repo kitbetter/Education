{
 "cells": [
  {
   "cell_type": "code",
   "execution_count": 1,
   "metadata": {},
   "outputs": [],
   "source": [
    "import numpy as np\n",
    "from numpy import random"
   ]
  },
  {
   "cell_type": "code",
   "execution_count": 2,
   "metadata": {},
   "outputs": [],
   "source": [
    "class Exercise:\n",
    "    def __init__(self, distanceRequired, strat, stop) -> None:\n",
    "        self.city = [\"A\", \"B\", \"C\", \"D\", \"E\"]\n",
    "        self.adjacency_mat = np.asarray([\n",
    "            [0, 2, 5, 8, 0],\n",
    "            [2, 0, 0, 3, 4],\n",
    "            [5, 0, 0, 4, 3],\n",
    "            [8, 3, 4, 0, 2],\n",
    "            [0, 4, 3, 2, 0],\n",
    "        ])\n",
    "        self.distanceR = distanceRequired\n",
    "        self.start = strat\n",
    "        self.stop = stop\n",
    "        self.position = 0\n",
    "        self.passThrough = []\n",
    "        self.totalDistance = 0\n",
    "        self.check = 999\n",
    "\n",
    "    def Set_citys(self):\n",
    "        for i in range(0, len(self.city)):\n",
    "            if self.start == self.city[i]:\n",
    "                self.start = i\n",
    "            if self.stop == self.city[i]:\n",
    "                self.stop = i\n",
    "\n",
    "    def NextPlace(self):\n",
    "        place = []\n",
    "        for i in range(0, len(self.adjacency_mat[self.start])):\n",
    "            if self.adjacency_mat[self.position][i] != 0:\n",
    "                place.append(i)\n",
    "        r = random.randint(0, len(place))\n",
    "        return place[r]\n",
    "\n",
    "    def Check(self):\n",
    "        if self.totalDistance > self.distanceR:\n",
    "            self.check = self.totalDistance - int(self.distanceR)\n",
    "        else:\n",
    "            self.check = int(self.distanceR) - self.totalDistance\n",
    "        if self.check != 0:\n",
    "            self.passThrough = []\n",
    "            self.totalDistance = 0\n",
    "\n",
    "    def Process(self):\n",
    "        while self.check != 0:\n",
    "            sumPass = []\n",
    "            sumDis = 0\n",
    "            self.position = self.start\n",
    "\n",
    "            while self.stop != self.position:\n",
    "                nP = self.NextPlace()\n",
    "\n",
    "                sumDis += self.adjacency_mat[self.position][nP]\n",
    "                sumPass.append(self.city[nP])\n",
    "\n",
    "                self.position = nP\n",
    "\n",
    "            self.passThrough.append(sumPass)\n",
    "            self.totalDistance = sumDis\n",
    "            self.Check()\n",
    "\n",
    "    def Display(self):\n",
    "        print(\"จะได้เส้นทาง ดังนี้ :\", self.city[self.start], end='-->')\n",
    "        print(*self.passThrough[0], sep=\"-->\", end='')"
   ]
  },
  {
   "cell_type": "code",
   "execution_count": 3,
   "metadata": {},
   "outputs": [
    {
     "name": "stdout",
     "output_type": "stream",
     "text": [
      "ระยะทางที่ต้องการ หน่วย(Km) : 12\n",
      "จุดเริ่มต้น A-E : A\n",
      "จุดหมายปลายทาง A-E : C\n"
     ]
    }
   ],
   "source": [
    "distanceRequired = int(input(\"ระยะทางที่ต้องการ หน่วย(Km) : \"))\n",
    "strat = input(\"จุดเริ่มต้น A-E : \")\n",
    "stop = input(\"จุดหมายปลายทาง A-E : \")"
   ]
  },
  {
   "cell_type": "code",
   "execution_count": 4,
   "metadata": {},
   "outputs": [
    {
     "name": "stdout",
     "output_type": "stream",
     "text": [
      "จะได้เส้นทาง ดังนี้ : A-->D-->C"
     ]
    }
   ],
   "source": [
    "E = Exercise(distanceRequired, strat, stop)\n",
    "E.Set_citys()\n",
    "E.Process()\n",
    "E.Display()"
   ]
  }
 ],
 "metadata": {
  "kernelspec": {
   "display_name": "Python 3",
   "language": "python",
   "name": "python3"
  },
  "language_info": {
   "codemirror_mode": {
    "name": "ipython",
    "version": 3
   },
   "file_extension": ".py",
   "mimetype": "text/x-python",
   "name": "python",
   "nbconvert_exporter": "python",
   "pygments_lexer": "ipython3",
   "version": "3.8.8"
  }
 },
 "nbformat": 4,
 "nbformat_minor": 4
}
